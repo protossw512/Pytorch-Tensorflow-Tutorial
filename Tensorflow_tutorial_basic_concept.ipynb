{
 "cells": [
  {
   "cell_type": "markdown",
   "metadata": {},
   "source": [
    "# CS535 Tensorflow Tutorial - Basic Concept"
   ]
  },
  {
   "cell_type": "code",
   "execution_count": 8,
   "metadata": {},
   "outputs": [],
   "source": [
    "from __future__ import print_function\n",
    "import tensorflow as tf\n",
    "import numpy as np\n",
    "\n",
    "%run /nfs/stak/users/wangxiny/tutorial/mnist_convnet_model/gpumemory.py"
   ]
  },
  {
   "cell_type": "markdown",
   "metadata": {},
   "source": [
    "### Important Concept\n",
    "    Tensor - similar to pytorch tensor\n",
    "    Graph - a computation/data flow graph that defines the model\n",
    "    Session - allows to execute a graph or part of graph"
   ]
  },
  {
   "cell_type": "code",
   "execution_count": 9,
   "metadata": {},
   "outputs": [
    {
     "name": "stdout",
     "output_type": "stream",
     "text": [
      "Tensor(\"Add:0\", shape=(), dtype=int32)\n"
     ]
    }
   ],
   "source": [
    "graph_1 = tf.Graph()\n",
    "with graph_1.as_default():\n",
    "    x = 7\n",
    "    y = 3\n",
    "    z = tf.add(x, y)\n",
    "print(z)"
   ]
  },
  {
   "cell_type": "markdown",
   "metadata": {},
   "source": [
    "How to get the value of z?"
   ]
  },
  {
   "cell_type": "code",
   "execution_count": 10,
   "metadata": {},
   "outputs": [
    {
     "name": "stdout",
     "output_type": "stream",
     "text": [
      "10\n"
     ]
    }
   ],
   "source": [
    "with tf.Session(graph=graph_1) as sess:\n",
    "    out = sess.run(z)\n",
    "    print(out)"
   ]
  },
  {
   "cell_type": "markdown",
   "metadata": {},
   "source": [
    "### Variables and Placeholders\n",
    "#### Variables\n",
    "In Tensorflow, Variables are used to hold and update paramaters you want to train, you can think it is a wrapper of Tensors, which is similar to Pytorch.\n",
    "They must be explicitly initialized and can be saved to disk during and after training.\n",
    "#### Placeholders\n",
    "Placeholders are simply variables that can be assigned with data later, like training images/strings."
   ]
  },
  {
   "cell_type": "code",
   "execution_count": 11,
   "metadata": {},
   "outputs": [
    {
     "name": "stdout",
     "output_type": "stream",
     "text": [
      "[   2.   16.  512.]\n",
      "[   1.    8.  192.]\n"
     ]
    }
   ],
   "source": [
    "graph_2 = tf.Graph()\n",
    "with graph_2.as_default():\n",
    "    x = tf.placeholder(tf.float32, shape=(3), name='x')\n",
    "    # Create a variable by tf.get_variable()\n",
    "    a = tf.get_variable(\"a\", dtype=tf.float32, shape=(3), initializer=tf.constant_initializer([2,4,8]))\n",
    "    z = tf.pow(a, x, name='z')\n",
    "    # Calculate the gradients of a with respect to z\n",
    "    a_grad = tf.gradients(z, [a])[0]\n",
    "with tf.Session(graph=graph_2) as sess:\n",
    "    # Only after running tf.global_variables_initializer()\n",
    "    # in a session will your variables hold the values you\n",
    "    # told them to hold when you declare them\n",
    "    sess.run(tf.global_variables_initializer())\n",
    "    out = sess.run(z, feed_dict={x: [1, 2, 3]}) # key x refers to a tensor\n",
    "    print(out)\n",
    "    a_grad_val = sess.run(a_grad, feed_dict={x: [1, 2, 3]})\n",
    "    print(a_grad_val)"
   ]
  }
 ],
 "metadata": {
  "kernelspec": {
   "display_name": "Tensorflow",
   "language": "python",
   "name": "tensorflow"
  },
  "language_info": {
   "codemirror_mode": {
    "name": "ipython",
    "version": 2
   },
   "file_extension": ".py",
   "mimetype": "text/x-python",
   "name": "python",
   "nbconvert_exporter": "python",
   "pygments_lexer": "ipython2",
   "version": "2.7.5"
  }
 },
 "nbformat": 4,
 "nbformat_minor": 2
}
